{
 "cells": [
  {
   "cell_type": "markdown",
   "id": "88280552-dd70-4989-9156-ccc566702cc6",
   "metadata": {},
   "source": [
    "### Examples"
   ]
  },
  {
   "cell_type": "code",
   "execution_count": null,
   "id": "48055219-3206-40c1-af41-afc2807868f1",
   "metadata": {},
   "outputs": [],
   "source": [
    "%load_ext autoreload\n",
    "%autoreload 2\n",
    "\n",
    "import sys\n",
    "sys.path.append('..')\n",
    "\n",
    "from client_info import utils"
   ]
  },
  {
   "cell_type": "markdown",
   "id": "477813ea-9eb1-40b6-b093-607bc3420552",
   "metadata": {},
   "source": [
    "### Loada data"
   ]
  },
  {
   "cell_type": "code",
   "execution_count": null,
   "id": "d26b2a6a-725a-491b-8d8c-7a90d2cf6af2",
   "metadata": {},
   "outputs": [],
   "source": [
    "data = utils.load_yaml_date('../data/data.yaml')"
   ]
  },
  {
   "cell_type": "markdown",
   "id": "8313c52e-4a67-4a85-82d1-e0d055bacbfa",
   "metadata": {},
   "source": [
    "### Inspect"
   ]
  },
  {
   "cell_type": "code",
   "execution_count": null,
   "id": "07acc34c-52d9-4681-9153-0bef1c8ef3ea",
   "metadata": {},
   "outputs": [],
   "source": [
    "data['records']['reno']"
   ]
  }
 ],
 "metadata": {
  "kernelspec": {
   "display_name": "Python 3 (ipykernel)",
   "language": "python",
   "name": "python3"
  },
  "language_info": {
   "codemirror_mode": {
    "name": "ipython",
    "version": 3
   },
   "file_extension": ".py",
   "mimetype": "text/x-python",
   "name": "python",
   "nbconvert_exporter": "python",
   "pygments_lexer": "ipython3",
   "version": "3.7.12"
  }
 },
 "nbformat": 4,
 "nbformat_minor": 5
}
